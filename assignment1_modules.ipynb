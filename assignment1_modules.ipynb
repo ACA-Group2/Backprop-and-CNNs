{
  "nbformat": 4,
  "nbformat_minor": 0,
  "metadata": {
    "kernelspec": {
      "display_name": "Python 3",
      "language": "python",
      "name": "python3"
    },
    "language_info": {
      "codemirror_mode": {
        "name": "ipython",
        "version": 3
      },
      "file_extension": ".py",
      "mimetype": "text/x-python",
      "name": "python",
      "nbconvert_exporter": "python",
      "pygments_lexer": "ipython3",
      "version": "3.8.5"
    },
    "colab": {
      "name": "assignment1_modules.ipynb",
      "provenance": []
    }
  },
  "cells": [
    {
      "cell_type": "code",
      "metadata": {
        "id": "BVYC5AtFKPi8"
      },
      "source": [
        "import numpy as np"
      ],
      "execution_count": null,
      "outputs": []
    },
    {
      "cell_type": "markdown",
      "metadata": {
        "id": "2eB51asIKPjE"
      },
      "source": [
        "**Module** is an abstract class which defines fundamental methods necessary for a training a neural network. You do not need to change anything here, just read the comments."
      ]
    },
    {
      "cell_type": "code",
      "metadata": {
        "id": "istQoh0XKPjE"
      },
      "source": [
        "class Module(object):\n",
        "    \n",
        "    def __init__ (self):\n",
        "        self.output = None\n",
        "        self.mode='Train'\n",
        "        \n",
        "        self.gradInput = None\n",
        "    \"\"\"\n",
        "    Basically, you can think of a module as of a something (black box) \n",
        "    which can process `input` data and produce `ouput` data.\n",
        "    This is like applying a function which is called `forward`: \n",
        "        \n",
        "        output = module.forward(input)\n",
        "    \n",
        "    The module should be able to perform a backward pass: to differentiate the `forward` function. \n",
        "    More, it should be able to differentiate it if is a part of chain (chain rule).\n",
        "    The latter implies there is a gradient from previous step of a chain rule. \n",
        "    \n",
        "        gradInput = module.backward(input, gradOutput)\n",
        "    \"\"\"\n",
        "    \n",
        "    def forward(self, inpt):\n",
        "        \"\"\"\n",
        "        Takes an input object, and computes the corresponding output of the module.\n",
        "        \"\"\"\n",
        "        return self.updateOutput(inpt)\n",
        "\n",
        "    def backward(self,gradOutput):\n",
        "        \"\"\"\n",
        "        Performs a backpropagation step through the module, with respect to the given input.\n",
        "        \n",
        "        This includes \n",
        "         - computing a gradient w.r.t. `input` (is needed for further backprop),\n",
        "         - computing a gradient w.r.t. parameters (to update parameters while optimizing).\n",
        "        \"\"\"\n",
        "        self.updateGradInput(gradOutput)\n",
        "        self.accGradParameters(gradOutput)\n",
        "        return self.gradInput\n",
        "    \n",
        "\n",
        "    def updateOutput(self, inpt):\n",
        "        \"\"\"\n",
        "        Computes the output using the current parameter set of the class and input.\n",
        "        This function returns the result which is stored in the `output` field.\n",
        "        \n",
        "        Make sure to both store the data in `output` field and return it. \n",
        "        \"\"\"\n",
        "        \n",
        "        # The easiest case:\n",
        "            \n",
        "        # self.output = input \n",
        "        # return self.output\n",
        "        \n",
        "        pass\n",
        "\n",
        "    def updateGradInput(self, gradOutput):\n",
        "        \"\"\"\n",
        "        Computing the gradient of the module with respect to its own input. \n",
        "        This is returned in `gradInput`. Also, the `gradInput` state variable is updated accordingly.\n",
        "        \n",
        "        The shape of `gradInput` is always the same as the shape of `input`.\n",
        "        \n",
        "        Make sure to both store the gradients in `gradInput` field and return it.\n",
        "        \"\"\"\n",
        "        \n",
        "        # The easiest case:\n",
        "        \n",
        "        # self.gradInput = gradOutput \n",
        "        # return self.gradInput\n",
        "        \n",
        "        pass   \n",
        "    \n",
        "    def accGradParameters(self, gradOutput):\n",
        "        \"\"\"\n",
        "        Computing the gradient of the module with respect to its own parameters.\n",
        "        No need to override if module has no parameters (e.g. ReLU).\n",
        "        \"\"\"\n",
        "        pass\n",
        "    \n",
        "    def zeroGradParameters(self): \n",
        "        \"\"\"\n",
        "        Zeroes `gradParams` variable if the module has params.\n",
        "        \"\"\"\n",
        "        pass\n",
        "        \n",
        "    def getParameters(self):\n",
        "        \"\"\"\n",
        "        Returns a list with its parameters. \n",
        "        If the module does not have parameters return empty list. \n",
        "        \"\"\"\n",
        "        return []\n",
        "        \n",
        "    def getGradParameters(self):\n",
        "        \"\"\"\n",
        "        Returns a list with gradients with respect to its parameters. \n",
        "        If the module does not have parameters return empty list. \n",
        "        \"\"\"\n",
        "        return []\n",
        "    \n",
        "    def training(self):\n",
        "        \"\"\"\n",
        "        Sets training mode for the module.\n",
        "        Training and testing behaviour differs for Dropout, BatchNorm.\n",
        "        \"\"\"\n",
        "        self.mode = 'Train'\n",
        "    \n",
        "    def evaluate(self):\n",
        "        \"\"\"\n",
        "        Sets evaluation mode for the module.\n",
        "        Training and testing behaviour differs for Dropout, BatchNorm.\n",
        "        \"\"\"\n",
        "        self.mode = 'Test'\n",
        "    \n",
        "    def __repr__(self):\n",
        "        \"\"\"\n",
        "        Pretty printing. Should be overrided in every module if you want \n",
        "        to have readable description. \n",
        "        \"\"\"\n",
        "        return 'Module'"
      ],
      "execution_count": null,
      "outputs": []
    },
    {
      "cell_type": "markdown",
      "metadata": {
        "id": "famdMGpwKPjH"
      },
      "source": [
        "# Sequential container"
      ]
    },
    {
      "cell_type": "markdown",
      "metadata": {
        "id": "ulNMpr6iKPjH"
      },
      "source": [
        "**Define** a forward and backward pass procedures."
      ]
    },
    {
      "cell_type": "code",
      "metadata": {
        "id": "WGzAitn2KPjI"
      },
      "source": [
        "class Sequential(Module):\n",
        "    \"\"\"\n",
        "         This class implements a container, which processes `input` data sequentially. \n",
        "         \n",
        "         `input` is processed by each module (layer) in self.modules consecutively.\n",
        "         The resulting array is called `output`. \n",
        "    \"\"\"\n",
        "    \n",
        "    def __init__ (self):\n",
        "        super(Sequential, self).__init__()\n",
        "        self.modules = []\n",
        "        self.y = []\n",
        "        self.loss=None\n",
        "   \n",
        "    def add(self, module):\n",
        "        \"\"\"\n",
        "        Adds a module to the container.\n",
        "        \"\"\"\n",
        "        self.modules.append(module)\n",
        "    def forward(self, X):\n",
        "        # Call forward method on the input layer\n",
        "        # this will set the output property that\n",
        "        # the first layer in \"prev\" object is expecting\n",
        "#         self.create_sequential()\n",
        " \n",
        "        prediction= self.updateOutput(X)\n",
        "\n",
        "        return prediction\n",
        "    \n",
        "    def predict(self,X):\n",
        "        prediction_proba=self.forward(X)\n",
        "        return np.argmax(prediction_proba,axis=1)\n",
        "    \n",
        "  \n",
        "                  \n",
        "\n",
        "\n",
        "    def updateOutput(self, inpt):\n",
        "        \n",
        "#         self.input_layer.forward(inpt)\n",
        "        # Call forward method of every object in a chain\n",
        "        # Pass output of the previous object as a parameter\n",
        "        output=inpt\n",
        "        for layer in self.modules:\n",
        "            output=layer.forward(output)\n",
        "            \n",
        "        self.output=output  \n",
        "            \n",
        "        return self.output\n",
        "\n",
        "    def backward(self,gradOutput):\n",
        "        \n",
        "        gradInput=gradOutput\n",
        "        for layer in reversed(self.modules):\n",
        "            gradInput=layer.backward(gradInput)\n",
        "        self.gradInput=gradInput    \n",
        "\n",
        "        return self.gradInput\n",
        "    \n",
        "    def evaluate(self):\n",
        "        for layer in self.modules:\n",
        "            layer.evaluate()\n",
        "    \n",
        "    def training(self):\n",
        "        \n",
        "         for layer in self.modules:\n",
        "            layer.training()\n",
        "\n",
        "    \n",
        "    \n",
        "    \n",
        "    \n",
        "      \n",
        "\n",
        "    def zeroGradParameters(self): \n",
        "        for module in self.modules:\n",
        "            module.zeroGradParameters()\n",
        "    \n",
        "    def getParameters(self):\n",
        "        \"\"\"\n",
        "        Should gather all parameters in a list.\n",
        "        \"\"\"\n",
        "        return [x.getParameters() for x in self.modules]\n",
        "    \n",
        "    def getGradParameters(self):\n",
        "        \"\"\"\n",
        "        Should gather all gradients w.r.t parameters in a list.\n",
        "        \"\"\"\n",
        "        return [x.getGradParameters() for x in self.modules]\n",
        "    \n",
        "    def __repr__(self):\n",
        "        string = ''.join([str(x) + '\\n' for x in self.modules])\n",
        "        return string\n",
        "    \n",
        "    def __getitem__(self,x):\n",
        "        return self.modules.__getitem__(x)"
      ],
      "execution_count": null,
      "outputs": []
    },
    {
      "cell_type": "code",
      "metadata": {
        "id": "lXofou_yKPjJ"
      },
      "source": [
        "class Optimizer_SGD:\n",
        "# Initialize optimizer - set settings,\n",
        "# learning rate of 1. is default for this optimizer\n",
        "    def __init__(self, learning_rate=0.1):\n",
        "        self.learning_rate = learning_rate\n",
        "    # Update parameters\n",
        "    def update_params(self, layer):\n",
        "#         layer.weights += -self.learning_rate * layer.dweights\n",
        "#         layer.biases += -self.learning_rate * layer.dbiases\n",
        "       \n",
        "\n",
        "        layer.W += -self.learning_rate * layer.gradW\n",
        "        layer.biases += -self.learning_rate * layer.gradb\n"
      ],
      "execution_count": null,
      "outputs": []
    },
    {
      "cell_type": "code",
      "metadata": {
        "id": "BjhyMUTFKPjK"
      },
      "source": [
        ""
      ],
      "execution_count": null,
      "outputs": []
    },
    {
      "cell_type": "markdown",
      "metadata": {
        "id": "xUBm0ATsKPjL"
      },
      "source": [
        "# Layers"
      ]
    },
    {
      "cell_type": "markdown",
      "metadata": {
        "id": "6PDRjok5KPjL"
      },
      "source": [
        "- input:   **`batch_size x n_feats1`**\n",
        "- output: **`batch_size x n_feats2`**"
      ]
    },
    {
      "cell_type": "code",
      "metadata": {
        "id": "bdl8KXQ8KPjL"
      },
      "source": [
        "class Linear_Input:\n",
        "    def forward(self,inputs):\n",
        "        self.output=inputs"
      ],
      "execution_count": null,
      "outputs": []
    },
    {
      "cell_type": "code",
      "metadata": {
        "id": "Y0dcTVwhKPjM"
      },
      "source": [
        "class Linear(Module):\n",
        "    \"\"\"\n",
        "    A module which applies a linear transformation \n",
        "    A common name is fully-connected layer, InnerProductLayer in caffe. \n",
        "    \n",
        "    The module should work with 2D input of shape (n_samples, n_feature).\n",
        "    \"\"\"\n",
        "    def __init__(self, n_in, n_out):\n",
        "        super(Linear, self).__init__()\n",
        "       \n",
        "        # This is a nice initialization\n",
        "        stdv = 1. / np.sqrt(n_in)\n",
        "        self.W = np.random.uniform(-stdv, stdv, size = (n_in, n_out))\n",
        "        self.biases = np.zeros((1, n_out))\n",
        "        \n",
        "        self.gradW = np.zeros_like(self.W)\n",
        "        self.gradb=np.zeros_like(self.biases)\n",
        "        \n",
        "    \n",
        "    \n",
        "        \n",
        "    def updateOutput(self, inpt):\n",
        "        \n",
        "        if self.mode=='Train':\n",
        "            self.inpt=inpt\n",
        "            \n",
        "            \n",
        "        self.output = inpt.dot(self.W)+self.biases\n",
        "        return self.output\n",
        "\n",
        "    def updateGradInput(self, gradOutput):\n",
        "        self.gradInput = gradOutput.dot(self.W.T)\n",
        "        \n",
        "        return self.gradInput\n",
        "    \n",
        "    def accGradParameters(self, gradOutput):\n",
        "        self.gradW = self.inpt.T.dot(gradOutput)\n",
        "        self.gradb = np.sum(gradOutput, axis=0, keepdims=True)\n",
        "    \n",
        "    def zeroGradParameters(self):\n",
        "        self.gradW.fill(0)\n",
        "        self.gradb.fill(0)\n",
        "        \n",
        "    def getParameters(self):\n",
        "        return [self.W, self.biases]\n",
        "    \n",
        "    def getGradParameters(self):\n",
        "        return [self.gradW, self.gradb]\n",
        "    \n",
        "    def __repr__(self):\n",
        "        s = self.W.shape\n",
        "        q = 'Linear %d -> %d' %(s[0],s[1])\n",
        "        return q"
      ],
      "execution_count": null,
      "outputs": []
    },
    {
      "cell_type": "markdown",
      "metadata": {
        "id": "9Bp0BYjhKPjN"
      },
      "source": [
        "This one is probably the hardest but as others only takes 5 lines of code in total. \n",
        "- input:   **`batch_size x n_feats`**\n",
        "- output: **`batch_size x n_feats`**"
      ]
    },
    {
      "cell_type": "code",
      "metadata": {
        "id": "JUxCKKf1KPjN"
      },
      "source": [
        "class SoftMax(Module):\n",
        "    def __init__(self):\n",
        "        super(SoftMax, self).__init__()  \n",
        "    \n",
        "    def updateOutput(self, inpt):\n",
        "        \n",
        "        probabilities = np.exp(inpt) / np.sum(np.exp(inpt), axis=1, keepdims=True)\n",
        "        self.output = probabilities\n",
        "        if self.mode=='Train':\n",
        "            self.inpt=probabilities\n",
        "        return self.output\n",
        "    \n",
        "    def updateGradInput(self,gradOutput):\n",
        "        self.gradInput = np.empty_like(gradOutput)\n",
        "        # Enumerate outputs and gradients\n",
        "        for index, (single_output, single_dvalues) in \\\n",
        "        enumerate(zip(self.inpt,gradOutput )):\n",
        "        # Flatten output array\n",
        "            single_output = single_output.reshape(-1, 1)\n",
        "            # Calculate Jacobian matrix of the output and\n",
        "            jacobian_matrix = np.diagflat(single_output) - \\\n",
        "            np.dot(single_output, single_output.T)\n",
        "            # Calculate sample-wise gradient\n",
        "            # and add it to the array of sample gradients\n",
        "            self.gradInput[index] = np.dot(jacobian_matrix,single_dvalues)\n",
        "        \n",
        "        return self.gradInput\n",
        "    \n",
        "    def __repr__(self):\n",
        "        return 'SoftMax'"
      ],
      "execution_count": null,
      "outputs": []
    },
    {
      "cell_type": "markdown",
      "metadata": {
        "id": "DgDDKe49KPjO"
      },
      "source": [
        "One of the most significant recent ideas that impacted NNs a lot is [**Batch normalization**](http://arxiv.org/abs/1502.03167). The idea is simple, yet effective: the features should be whitened ($mean = 0$, $std = 1$) all the way through NN. This improves the convergence for deep models letting it train them for days but not weeks. **You are** to implement a part of the layer: mean subtraction. That is, the module should calculate mean value for every feature (every column) and subtract it.\n",
        "\n",
        "Note, that you need to estimate the mean over the dataset to be able to predict on test examples. The right way is to create a variable which will hold smoothed mean over batches (exponential smoothing works good) and use it when forwarding test examples.\n",
        "\n",
        "When training calculate mean as folowing: \n",
        "```\n",
        "    mean_to_subtract = self.old_mean * alpha + batch_mean * (1 - alpha)\n",
        "```\n",
        "when evaluating (`self.training == False`) set $alpha = 1$.\n",
        "\n",
        "\n",
        "- input:   **`batch_size x n_feats`**\n",
        "- output: **`batch_size x n_feats`**"
      ]
    },
    {
      "cell_type": "code",
      "metadata": {
        "id": "b4HZGEZxKPjO"
      },
      "source": [
        "class BatchMeanSubtraction(Module):\n",
        "    def __init__(self, alpha = 0.95):\n",
        "        super(BatchMeanSubtraction, self).__init__()\n",
        "        self.trainable=True\n",
        "        self.W=None\n",
        "        self.biases=None\n",
        "        self.alpha = alpha\n",
        "        self.old_mean = None\n",
        "        \n",
        "        \n",
        "    def updateOutput(self, inpt):\n",
        "\n",
        "        if not isinstance(self.W,np.ndarray):\n",
        "            self.W=np.random.normal(size=(1,inpt.shape[1]))\n",
        "            self.biases=np.random.normal(size=(1,inpt.shape[1]))\n",
        "            self.running_mean=np.zeros(inpt.shape[1])\n",
        "            self.running_var=np.zeros(inpt.shape[1])\n",
        "            \n",
        "        if self.mode=='Train':\n",
        "            self.mu = np.mean(inpt,axis=0)\n",
        "            self.sd = np.sqrt(np.var(inpt,axis=0))\n",
        "            self.N = inpt.shape[0]\n",
        "            normalized = (inpt - self.mu) / self.sd\n",
        "            self.inpt=normalized\n",
        "            gammax=self.W*normalized\n",
        "            self.running_mean=self.running_mean*self.alpha+self.mu*(1-self.alpha)\n",
        "            self.running_var=self.running_var*self.alpha+self.sd*(1-self.alpha)\n",
        "            self.output=gammax+self.biases\n",
        "        elif self.mode=='Test':\n",
        "            normalized=(inpt-self.running_mean)/self.running_var\n",
        "            self.output=self.W*normalized+self.biases   \n",
        "               \n",
        "\n",
        "        return self.output\n",
        "    \n",
        "    def updateGradInput(self,gradOutput):\n",
        "        N,D=gradOutput.shape\n",
        "        dxhat=gradOutput*self.W\n",
        "        dx=(1. / N) * self.sd * (N*dxhat - np.sum(dxhat, axis=0)- self.inpt*np.sum(dxhat*self.inpt, axis=0))\n",
        "        \n",
        "        self.gradInput=dx\n",
        "        \n",
        "        return self.gradInput\n",
        "    \n",
        "    def accGradParameters(self, gradOutput):\n",
        "        self.gradW = np.sum(self.inpt*gradOutput,axis=0)\n",
        "        self.gradb = np.sum(gradOutput, axis=0, keepdims=True)\n",
        "        \n",
        "    def getGradParameters(self):\n",
        "        \"\"\"\n",
        "        Returns a list with gradients with respect to its parameters. \n",
        "        If the module does not have parameters return empty list. \n",
        "        \"\"\"\n",
        "        return [self.gradW,self.gradb]    \n",
        "    \n",
        "    \n",
        "    def __repr__(self):\n",
        "        return 'BatchMeanNormalization'"
      ],
      "execution_count": null,
      "outputs": []
    },
    {
      "cell_type": "markdown",
      "metadata": {
        "id": "GHnvYJcgKPjP"
      },
      "source": [
        "Implement [**dropout**](https://www.cs.toronto.edu/~hinton/absps/JMLRdropout.pdf). The idea and implementation is really simple: just multimply the input by $Bernoulli(p)$ mask. \n",
        "\n",
        "This is a very cool regularizer. In fact, when you see your net is overfitting try to add more dropout. It is hard to test, since every `forward` requires sampling a new mask, that is the only reason we need `fix_mask` parameter in there. \n",
        "\n",
        "While training (`self.training == True`) it should sample a mask on each iteration (for every batch). When testing this module should implement identity transform i.e. `self.output = input`.\n",
        "\n",
        "- input:   **`batch_size x n_feats`**\n",
        "- output: **`batch_size x n_feats`**"
      ]
    },
    {
      "cell_type": "code",
      "metadata": {
        "id": "jr9QGwb-KPjP"
      },
      "source": [
        "from scipy.stats import bernoulli\n",
        "\n",
        "class Dropout(Module):\n",
        "    def __init__(self, p=0.5):\n",
        "        super(Dropout, self).__init__()\n",
        "        self.p = p\n",
        "        self.mask = None\n",
        "\n",
        "    def updateOutput(self, inpt):\n",
        "        if self.mode=='Train':\n",
        "            self.mask = bernoulli.rvs(self.p, size=inpt.size).reshape(inpt.shape)\n",
        "            self.output = inpt * self.mask\n",
        "        elif self.mode=='Test':\n",
        "             self.output=inpt\n",
        "        \n",
        "        return  self.output\n",
        "    \n",
        "    def updateGradInput(self, gradOutput):\n",
        "        \n",
        "        self.gradInput = gradOutput * self.mask\n",
        "        return self.gradInput\n",
        "    \n",
        "        \n",
        "    def __repr__(self):\n",
        "        return 'Dropout'"
      ],
      "execution_count": null,
      "outputs": []
    },
    {
      "cell_type": "markdown",
      "metadata": {
        "id": "4ajqMzImKPjQ"
      },
      "source": [
        "# Activation functions"
      ]
    },
    {
      "cell_type": "markdown",
      "metadata": {
        "id": "h2dXBo1XKPjQ"
      },
      "source": [
        "Here's the complete example for the **Rectified Linear Unit** non-linearity (aka **ReLU**): "
      ]
    },
    {
      "cell_type": "code",
      "metadata": {
        "id": "MYw67olyKPjR"
      },
      "source": [
        "class ReLU(Module):\n",
        "    def __init__(self):\n",
        "        super(ReLU, self).__init__()\n",
        "    \n",
        "    def updateOutput(self, inpt):\n",
        "        \n",
        "        if self.mode=='Train':\n",
        "            self.inpt=inpt\n",
        "        self.output = np.maximum(inpt, 0)\n",
        "        return self.output\n",
        "    \n",
        "    def updateGradInput(self, gradOutput):\n",
        "        self.gradInput=gradOutput.copy()\n",
        "        self.gradInput[self.inpt <= 0]=0\n",
        "\n",
        "        return self.gradInput\n",
        "    \n",
        "    def __repr__(self):\n",
        "        return 'ReLU'"
      ],
      "execution_count": null,
      "outputs": []
    },
    {
      "cell_type": "markdown",
      "metadata": {
        "id": "AGeehj6EKPjR"
      },
      "source": [
        "Implement [**Leaky Rectified Linear Unit**](http://en.wikipedia.org/wiki%2FRectifier_%28neural_networks%29%23Leaky_ReLUs). Expriment with slope. "
      ]
    },
    {
      "cell_type": "code",
      "metadata": {
        "id": "gKI0AROuKPjR"
      },
      "source": [
        "class LeakyReLU(Module):\n",
        "    def __init__(self, slope = 0.03):\n",
        "        super(LeakyReLU, self).__init__()   \n",
        "        self.slope = slope\n",
        "        \n",
        "    def updateOutput(self, inpt):\n",
        "        if self.mode=='Train':\n",
        "            self.inpt=inpt\n",
        "        self.output = np.maximum(inpt, self.slope * inpt)\n",
        "        return self.output\n",
        "    \n",
        "    def updateGradInput(self, gradOutput):\n",
        "        self.gradInput = np.multiply(gradOutput, np.multiply(self.inpt > self.slope, self.inpt))\n",
        "        return self.gradInput\n",
        "    \n",
        "    def __repr__(self):\n",
        "        return 'LeakyReLU'"
      ],
      "execution_count": null,
      "outputs": []
    },
    {
      "cell_type": "markdown",
      "metadata": {
        "id": "SEAZMM8KKPjS"
      },
      "source": [
        "Implement [**Exponential Linear Units**](http://arxiv.org/abs/1511.07289) activations."
      ]
    },
    {
      "cell_type": "code",
      "metadata": {
        "id": "Yl6ul1A0KPjS"
      },
      "source": [
        "class ELU(Module):\n",
        "    def __init__(self, alpha = 1.0):\n",
        "        super(ELU, self).__init__() \n",
        "        self.alpha = alpha\n",
        "        \n",
        "    def updateOutput(self, inpt):\n",
        "        if self.mode=='Train':\n",
        "            self.inpt=inpt\n",
        "        self.output=np.where(inpt>0,inpt,self.alpha*(np.exp(inpt)-1))\n",
        "        return self.output\n",
        "    \n",
        "    def updateGradInput(self,gradOutput):\n",
        "        \n",
        "        self.gradInput = np.multiply(gradOutput, np.where(self.inpt>0,1,self.alpha*np.exp(self.inpt)))\n",
        "        return self.gradInput\n",
        "    \n",
        "    def __repr__(self):\n",
        "        return 'ELU'"
      ],
      "execution_count": null,
      "outputs": []
    },
    {
      "cell_type": "markdown",
      "metadata": {
        "id": "WCaRbSU1KPjS"
      },
      "source": [
        "Implement [**SoftPlus**](https://en.wikipedia.org/wiki%2FRectifier_%28neural_networks%29) activations. Look, how they look a lot like ReLU."
      ]
    },
    {
      "cell_type": "code",
      "metadata": {
        "id": "oF1O0TavKPjS"
      },
      "source": [
        "class SoftPlus(Module):\n",
        "    def __init__(self):\n",
        "        super(SoftPlus, self).__init__()\n",
        "    \n",
        "    def updateOutput(self, inpt):\n",
        "        if self.mode=='Train':\n",
        "            self.inpt=inpt\n",
        "        self.output = np.log(np.exp(inpt) + 1)\n",
        "        return self.output\n",
        "    \n",
        "    def updateGradInput(self,gradOutput):\n",
        "        self.gradInput = np.multiply(gradOutput, np.exp(self.inpt) / (np.exp(self.inpt) + 1))\n",
        "        return self.gradInput\n",
        "    \n",
        "    def __repr__(self):\n",
        "        return 'SoftPlus'"
      ],
      "execution_count": null,
      "outputs": []
    },
    {
      "cell_type": "markdown",
      "metadata": {
        "id": "jrfm9QolKPjT"
      },
      "source": [
        "# Criterions"
      ]
    },
    {
      "cell_type": "markdown",
      "metadata": {
        "id": "gJjfBstoKPjT"
      },
      "source": [
        "Criterions are used to score the models answers. "
      ]
    },
    {
      "cell_type": "code",
      "metadata": {
        "id": "bCZdxxAVKPjT"
      },
      "source": [
        "class Criterion(object):\n",
        "    def __init__ (self):\n",
        "        self.output = None\n",
        "        self.gradInput = None\n",
        "    \n",
        "    def forward(self, inpt, target):\n",
        "        \"\"\"\n",
        "            Given an input and a target, compute the loss function \n",
        "            associated to the criterion and return the result.\n",
        "            \n",
        "            For consistency this function should not be overrided,\n",
        "            all the code goes in `updateOutput`.\n",
        "        \"\"\"\n",
        "        return self.updateOutput(inpt, target)\n",
        "\n",
        "    def backward(self, inpt, target):\n",
        "        \"\"\"\n",
        "            Given an input and a target, compute the gradients of the loss function\n",
        "            associated to the criterion and return the result. \n",
        "\n",
        "            For consistency this function should not be overrided,\n",
        "            all the code goes in `updateGradInput`.\n",
        "        \"\"\"\n",
        "        return self.updateGradInput(inpt, target)\n",
        "    \n",
        "    def updateOutput(self, inpt, target):\n",
        "        \"\"\"\n",
        "        Function to override.\n",
        "        \"\"\"\n",
        "        return self.output\n",
        "\n",
        "    def updateGradInput(self, inpt, target):\n",
        "        \"\"\"\n",
        "        Function to override.\n",
        "        \"\"\"\n",
        "        return self.gradInput   \n",
        "\n",
        "    def __repr__(self):\n",
        "        \"\"\"\n",
        "        Pretty printing. Should be overrided in every module if you want \n",
        "        to have readable description. \n",
        "        \"\"\"\n",
        "        return 'Criterion'"
      ],
      "execution_count": null,
      "outputs": []
    },
    {
      "cell_type": "markdown",
      "metadata": {
        "id": "IZBmoeycKPjT"
      },
      "source": [
        "The **MSECriterion**, which is basic L2 norm usually used for regression, is implemented here for you."
      ]
    },
    {
      "cell_type": "code",
      "metadata": {
        "id": "zgqiMDvkKPjT"
      },
      "source": [
        "class MSECriterion(Criterion):\n",
        "    def __init__(self):\n",
        "        super(MSECriterion, self).__init__()\n",
        "\n",
        "    def updateOutput(self, inpt, target):   \n",
        "        self.output = np.mean((target - inpt)**2, axis=-1)\n",
        "        \n",
        "        return self.output \n",
        " \n",
        "    def updateGradInput(self, inpt, target):\n",
        "        \n",
        "        self.gradInput=-2*(target-inpt)/len(inpt[0])/len(inpt)\n",
        "        return self.gradInput\n",
        "\n",
        "    def __repr__(self):\n",
        "        return 'MSECriterion'"
      ],
      "execution_count": null,
      "outputs": []
    },
    {
      "cell_type": "markdown",
      "metadata": {
        "id": "XKmvnytOKPjU"
      },
      "source": [
        "You task is to implement the **ClassNLLCriterion**. It should implement [multiclass log loss](https://www.kaggle.com/wiki/MultiClassLogLoss). Nevertheless there is a sum over `y` (target) in that formula, \n",
        "remember that targets are one-hot encoded. This fact simplifies the computations a lot. Note, that criterions are the only places, where you divide by batch size. "
      ]
    },
    {
      "cell_type": "code",
      "metadata": {
        "id": "xiE5PVegKPjU"
      },
      "source": [
        "class ClassNLLCriterion(Criterion):\n",
        "    def __init__(self):\n",
        "        super(ClassNLLCriterion, self).__init__()\n",
        "    \n",
        "    def updateOutput(self, inpt, target):\n",
        "        \n",
        "        input_clamp = np.clip(inpt, 1e-7, 1 - 1e-7)\n",
        "        self.output=(-np.log(np.sum(input_clamp* target,axis=1))).mean()\n",
        "        return self.output\n",
        "\n",
        "    def updateGradInput(self, inpt, target):\n",
        "        \n",
        "        # Use this trick to avoid numerical errors\n",
        "        input_clamp = np.maximum(1e-15, np.minimum(inpt, 1 - 1e-15))       \n",
        "        self.gradInput = -target / input_clamp / inpt.shape[0]\n",
        "        \n",
        "        return self.gradInput\n",
        "    \n",
        "    def __repr__(self):\n",
        "        return 'ClassNLLCriterion'"
      ],
      "execution_count": null,
      "outputs": []
    },
    {
      "cell_type": "code",
      "metadata": {
        "id": "GDyJQTAJKPjU"
      },
      "source": [
        "def one_hot(y):\n",
        "    one_hot_labels=np.zeros((len(y),len(np.unique(y))))\n",
        "    for i in range(len(y)):\n",
        "        one_hot_labels[i,y[i]]=1\n",
        "    return one_hot_labels"
      ],
      "execution_count": null,
      "outputs": []
    }
  ]
}